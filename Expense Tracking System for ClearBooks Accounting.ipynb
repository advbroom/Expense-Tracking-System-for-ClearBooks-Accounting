{
 "cells": [
  {
   "cell_type": "code",
   "execution_count": 1,
   "id": "46babb92",
   "metadata": {},
   "outputs": [
    {
     "name": "stdout",
     "output_type": "stream",
     "text": [
      "Hello from YBI Foundation 🚀\n"
     ]
    }
   ],
   "source": [
    "# 📘 Expense Tracking System for ClearBooks Accounting\n",
    "print('Hello from YBI Foundation 🚀')"
   ]
  },
  {
   "cell_type": "code",
   "execution_count": 3,
   "id": "d81e1623-6b67-4b9c-bc28-35d80fca8a4f",
   "metadata": {},
   "outputs": [
    {
     "name": "stdout",
     "output_type": "stream",
     "text": [
      "   ExpenseID        Date  AmountINR   Category     Vendor  \\\n",
      "0          1  2024-12-18    1513.17  Utilities     WeWork   \n",
      "1          2  2024-02-20    3139.20  Marketing   JustDial   \n",
      "2          3  2024-11-12    2641.42   Software     Swiggy   \n",
      "3          4  2024-08-16    1195.57  Insurance  Microsoft   \n",
      "4          5  2024-03-13     305.91  Utilities  Microsoft   \n",
      "\n",
      "            Description  \n",
      "0    Business insurance  \n",
      "1    Printer ink refill  \n",
      "2    Business insurance  \n",
      "3  CRM software license  \n",
      "4  Monthly subscription  \n",
      "                Category  AmountINR\n",
      "0                 Travel  107209.71\n",
      "1  Meals & Entertainment   85026.41\n",
      "2        Office Supplies   83199.89\n",
      "3              Marketing   81820.90\n",
      "4              Utilities   79510.78\n"
     ]
    }
   ],
   "source": [
    "import pandas as pd\n",
    "\n",
    "# Load CSVs\n",
    "records_df = pd.read_csv('Expense_Records_ClearBooks.csv')\n",
    "summary_df = pd.read_csv('Expense_Summary_By_Category.csv')\n",
    "\n",
    "# Check the first few rows\n",
    "print(records_df.head())\n",
    "print(summary_df.head())\n"
   ]
  },
  {
   "cell_type": "code",
   "execution_count": 4,
   "id": "8b84c1bd-01bd-4c17-958f-67190329140c",
   "metadata": {},
   "outputs": [],
   "source": [
    "# Convert 'Date' to datetime format\n",
    "records_df['Date'] = pd.to_datetime(records_df['Date'], errors='coerce')\n",
    "\n",
    "# Drop any rows with missing or invalid data\n",
    "records_df.dropna(subset=['Date', 'AmountINR', 'Category'], inplace=True)\n",
    "\n",
    "# Ensure Amount is positive\n",
    "records_df = records_df[records_df['AmountINR'] > 0]\n"
   ]
  },
  {
   "cell_type": "code",
   "execution_count": 5,
   "id": "b90ab381-357c-43e8-ad03-9f05d6910b27",
   "metadata": {},
   "outputs": [
    {
     "name": "stdout",
     "output_type": "stream",
     "text": [
      "                Category  AmountINR\n",
      "7                 Travel  107209.71\n",
      "2  Meals & Entertainment   85026.41\n",
      "3        Office Supplies   83199.89\n",
      "1              Marketing   81820.90\n",
      "8              Utilities   79510.78\n",
      "6               Software   78969.57\n",
      "4  Professional Services   76887.46\n",
      "0              Insurance   76612.46\n",
      "5                   Rent   68524.50\n"
     ]
    }
   ],
   "source": [
    "generated_summary = records_df.groupby('Category')['AmountINR'].sum().reset_index()\n",
    "\n",
    "# Optional: Sort by amount\n",
    "generated_summary = generated_summary.sort_values(by='AmountINR', ascending=False)\n",
    "\n",
    "print(generated_summary)"
   ]
  },
  {
   "cell_type": "code",
   "execution_count": 6,
   "id": "9fa6e0c5-e993-4dba-b050-0aa080294939",
   "metadata": {},
   "outputs": [
    {
     "name": "stdout",
     "output_type": "stream",
     "text": [
      "                Category  AmountINR_Generated  AmountINR_Provided  Difference\n",
      "0              Insurance             76612.46            76612.46         0.0\n",
      "1              Marketing             81820.90            81820.90         0.0\n",
      "2  Meals & Entertainment             85026.41            85026.41         0.0\n",
      "3        Office Supplies             83199.89            83199.89         0.0\n",
      "4  Professional Services             76887.46            76887.46         0.0\n",
      "5                   Rent             68524.50            68524.50         0.0\n",
      "6               Software             78969.57            78969.57         0.0\n",
      "7                 Travel            107209.71           107209.71         0.0\n",
      "8              Utilities             79510.78            79510.78         0.0\n"
     ]
    }
   ],
   "source": [
    "# Round values for comparison\n",
    "generated_summary['AmountINR'] = generated_summary['AmountINR'].round(2)\n",
    "summary_df['AmountINR'] = summary_df['AmountINR'].round(2)\n",
    "\n",
    "# Merge and compare\n",
    "comparison = pd.merge(generated_summary, summary_df, on='Category', how='outer', suffixes=('_Generated', '_Provided'))\n",
    "\n",
    "comparison['Difference'] = comparison['AmountINR_Generated'] - comparison['AmountINR_Provided']\n",
    "print(comparison)"
   ]
  },
  {
   "cell_type": "code",
   "execution_count": null,
   "id": "2f1c520b-2520-47ca-9466-155ed20b08bf",
   "metadata": {},
   "outputs": [
    {
     "name": "stdout",
     "output_type": "stream",
     "text": [
      "\n",
      "--- ClearBooks Expense Tracker ---\n",
      "1. View All Records\n",
      "2. View Summary by Category\n",
      "3. Compare with Provided Summary\n",
      "4. Export Cleaned Data\n",
      "5. Exit\n"
     ]
    }
   ],
   "source": [
    "def main_menu():\n",
    "    while True:\n",
    "        print(\"\\n--- ClearBooks Expense Tracker ---\")\n",
    "        print(\"1. View All Records\")\n",
    "        print(\"2. View Summary by Category\")\n",
    "        print(\"3. Compare with Provided Summary\")\n",
    "        print(\"4. Export Cleaned Data\")\n",
    "        print(\"5. Exit\")\n",
    "\n",
    "        choice = input(\"Select an option: \")\n",
    "\n",
    "        if choice == '1':\n",
    "            print(\"\\n--- First 10 Expense Records ---\")\n",
    "            print(records_df.head(10).to_string(index=False))\n",
    "\n",
    "        elif choice == '2':\n",
    "            print(\"\\n--- Summary by Category ---\")\n",
    "            print(generated_summary.to_string(index=False))\n",
    "\n",
    "        elif choice == '3':\n",
    "            print(\"\\n--- Comparison with Provided Summary ---\")\n",
    "            print(comparison.to_string(index=False))\n",
    "\n",
    "        elif choice == '4':\n",
    "            records_df.to_csv('Cleaned_Expense_Records.csv', index=False)\n",
    "            generated_summary.to_csv('Generated_Summary.csv', index=False)\n",
    "            print(\"Files exported successfully.\")\n",
    "\n",
    "        elif choice == '5':\n",
    "            print(\"Exiting. Goodbye!\")\n",
    "            break\n",
    "\n",
    "        else:\n",
    "            print(\"Invalid choice. Please enter a number from 1 to 5.\")\n",
    "\n",
    "# Make sure this is at the bottom of your script\n",
    "if __name__ == '__main__':\n",
    "    main_menu()\n"
   ]
  },
  {
   "cell_type": "code",
   "execution_count": null,
   "id": "caa0ddae-7a91-4fb3-b36e-8aaf916b1a51",
   "metadata": {},
   "outputs": [],
   "source": []
  }
 ],
 "metadata": {
  "kernelspec": {
   "display_name": "Python [conda env:base] *",
   "language": "python",
   "name": "conda-base-py"
  },
  "language_info": {
   "codemirror_mode": {
    "name": "ipython",
    "version": 3
   },
   "file_extension": ".py",
   "mimetype": "text/x-python",
   "name": "python",
   "nbconvert_exporter": "python",
   "pygments_lexer": "ipython3",
   "version": "3.12.7"
  }
 },
 "nbformat": 4,
 "nbformat_minor": 5
}
